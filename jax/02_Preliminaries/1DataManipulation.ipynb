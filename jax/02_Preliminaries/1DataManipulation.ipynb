{
 "cells": [
  {
   "cell_type": "markdown",
   "id": "2679a4cb-364c-47c4-b754-3a4bd4a67360",
   "metadata": {},
   "source": [
    "# Data manipulation"
   ]
  },
  {
   "cell_type": "code",
   "execution_count": 1,
   "id": "13333ad1-d4c7-4f2b-8636-0cc310602bae",
   "metadata": {},
   "outputs": [],
   "source": [
    "import jax \n",
    "import jax.numpy as jnp"
   ]
  },
  {
   "cell_type": "code",
   "execution_count": 2,
   "id": "865c50e9-93c2-4d49-8d68-33b8651d0a37",
   "metadata": {},
   "outputs": [
    {
     "data": {
      "text/plain": [
       "Array([ 0,  1,  2,  3,  4,  5,  6,  7,  8,  9, 10, 11], dtype=int32)"
      ]
     },
     "execution_count": 2,
     "metadata": {},
     "output_type": "execute_result"
    }
   ],
   "source": [
    "x = jnp.arange(12)\n",
    "x"
   ]
  },
  {
   "cell_type": "code",
   "execution_count": 3,
   "id": "98d98ecb-5ded-44ae-b4bd-c608c9124c74",
   "metadata": {},
   "outputs": [
    {
     "data": {
      "text/plain": [
       "12"
      ]
     },
     "execution_count": 3,
     "metadata": {},
     "output_type": "execute_result"
    }
   ],
   "source": [
    "x.size"
   ]
  },
  {
   "cell_type": "code",
   "execution_count": 5,
   "id": "ada9360b-8be9-4966-8473-d51c1fed9d94",
   "metadata": {},
   "outputs": [
    {
     "data": {
      "text/plain": [
       "Array([[ 0,  1,  2,  3],\n",
       "       [ 4,  5,  6,  7],\n",
       "       [ 8,  9, 10, 11]], dtype=int32)"
      ]
     },
     "execution_count": 5,
     "metadata": {},
     "output_type": "execute_result"
    }
   ],
   "source": [
    "X = x.reshape(3,4)\n",
    "X"
   ]
  },
  {
   "cell_type": "code",
   "execution_count": 6,
   "id": "282b6b41-1d8b-4e28-9780-c898a7901fdf",
   "metadata": {},
   "outputs": [
    {
     "data": {
      "text/plain": [
       "Array([[ 0,  1,  2,  3],\n",
       "       [ 4,  5,  6,  7],\n",
       "       [ 8,  9, 10, 11]], dtype=int32)"
      ]
     },
     "execution_count": 6,
     "metadata": {},
     "output_type": "execute_result"
    }
   ],
   "source": [
    "x.reshape(3,-1) # Since we can automatically compute second dimension"
   ]
  },
  {
   "cell_type": "code",
   "execution_count": 8,
   "id": "b2328727-9e2a-42e6-95dc-298d1ee904d3",
   "metadata": {},
   "outputs": [
    {
     "data": {
      "text/plain": [
       "Array([[[0., 0., 0., 0.],\n",
       "        [0., 0., 0., 0.],\n",
       "        [0., 0., 0., 0.]],\n",
       "\n",
       "       [[0., 0., 0., 0.],\n",
       "        [0., 0., 0., 0.],\n",
       "        [0., 0., 0., 0.]]], dtype=float32)"
      ]
     },
     "execution_count": 8,
     "metadata": {},
     "output_type": "execute_result"
    }
   ],
   "source": [
    "jnp.zeros((2,3,4))"
   ]
  },
  {
   "cell_type": "code",
   "execution_count": 14,
   "id": "b88e8ec4-7c7d-4963-a38d-985b04dfde0f",
   "metadata": {},
   "outputs": [
    {
     "data": {
      "text/plain": [
       "Array([0, 0], dtype=uint32)"
      ]
     },
     "execution_count": 14,
     "metadata": {},
     "output_type": "execute_result"
    }
   ],
   "source": [
    "key = jax.random.PRNGKey(0)\n",
    "key"
   ]
  },
  {
   "cell_type": "code",
   "execution_count": 15,
   "id": "a3bfc0c3-50eb-4f01-a98e-e7d77f7dc731",
   "metadata": {},
   "outputs": [
    {
     "data": {
      "text/plain": [
       "Array([[ 1.1901639 , -1.0996888 ,  0.44367844,  0.5984697 ],\n",
       "       [-0.39189556,  0.69261974,  0.46018356, -2.068578  ],\n",
       "       [-0.21438177, -0.9898306 , -0.6789304 ,  0.27362573]],      dtype=float32)"
      ]
     },
     "execution_count": 15,
     "metadata": {},
     "output_type": "execute_result"
    }
   ],
   "source": [
    "jax.random.normal(key, (3,4))"
   ]
  },
  {
   "cell_type": "code",
   "execution_count": 16,
   "id": "25410ed7-0388-43c3-9d82-949942c56b73",
   "metadata": {},
   "outputs": [
    {
     "data": {
      "text/plain": [
       "Array([[ 1,  2,  3],\n",
       "       [43,  2,  1]], dtype=int32)"
      ]
     },
     "execution_count": 16,
     "metadata": {},
     "output_type": "execute_result"
    }
   ],
   "source": [
    "jnp.array([[1,2,3],[43,2,1]])"
   ]
  },
  {
   "cell_type": "code",
   "execution_count": 17,
   "id": "56476e70-8590-4313-a7e2-dedf65542bc7",
   "metadata": {},
   "outputs": [
    {
     "data": {
      "text/plain": [
       "Array([ 8,  9, 10, 11], dtype=int32)"
      ]
     },
     "execution_count": 17,
     "metadata": {},
     "output_type": "execute_result"
    }
   ],
   "source": [
    "X[-1]"
   ]
  },
  {
   "cell_type": "code",
   "execution_count": 18,
   "id": "2001815f-5a70-4b94-bddf-5856832d208a",
   "metadata": {},
   "outputs": [
    {
     "data": {
      "text/plain": [
       "Array([[ 4,  5,  6,  7],\n",
       "       [ 8,  9, 10, 11]], dtype=int32)"
      ]
     },
     "execution_count": 18,
     "metadata": {},
     "output_type": "execute_result"
    }
   ],
   "source": [
    "X[1:3]"
   ]
  },
  {
   "cell_type": "code",
   "execution_count": 21,
   "id": "d5195757-5c93-43ed-a816-35bc0f591d3d",
   "metadata": {},
   "outputs": [
    {
     "data": {
      "text/plain": [
       "Array([[  0,   1,   2,   3],\n",
       "       [  4,   5, 400,   7],\n",
       "       [  8,   9,  10,  11]], dtype=int32)"
      ]
     },
     "execution_count": 21,
     "metadata": {},
     "output_type": "execute_result"
    }
   ],
   "source": [
    "X_new_1 = X.at[1,2].set(400)\n",
    "X_new_1"
   ]
  },
  {
   "cell_type": "code",
   "execution_count": 24,
   "id": "a6019e31-33ef-432b-852b-084d1f00dc82",
   "metadata": {},
   "outputs": [
    {
     "data": {
      "text/plain": [
       "Array([[     0, 123321, 123321,      3],\n",
       "       [     4,      5,      6,      7],\n",
       "       [     8,      9,     10,     11]], dtype=int32)"
      ]
     },
     "execution_count": 24,
     "metadata": {},
     "output_type": "execute_result"
    }
   ],
   "source": [
    "X_new_2 = X.at[0,1:3].set(123321)\n",
    "X_new_2"
   ]
  },
  {
   "cell_type": "code",
   "execution_count": 25,
   "id": "bcd49533-23bb-4733-8ad7-a44c99c67a50",
   "metadata": {},
   "outputs": [
    {
     "data": {
      "text/plain": [
       "Array([1.0000000e+00, 2.7182817e+00, 7.3890562e+00, 2.0085537e+01,\n",
       "       5.4598152e+01, 1.4841316e+02, 4.0342880e+02, 1.0966332e+03,\n",
       "       2.9809580e+03, 8.1030840e+03, 2.2026465e+04, 5.9874141e+04],      dtype=float32)"
      ]
     },
     "execution_count": 25,
     "metadata": {},
     "output_type": "execute_result"
    }
   ],
   "source": [
    "jnp.exp(x)"
   ]
  },
  {
   "cell_type": "code",
   "execution_count": 28,
   "id": "7ac9c7af-5227-4343-aaf0-2185a2bf1844",
   "metadata": {},
   "outputs": [
    {
     "data": {
      "text/plain": [
       "(Array([ 3.,  4.,  6., 10.], dtype=float32),\n",
       " Array([-1.,  0.,  2.,  6.], dtype=float32),\n",
       " Array([ 2.,  4.,  8., 16.], dtype=float32),\n",
       " Array([0.5, 1. , 2. , 4. ], dtype=float32),\n",
       " Array([ 1.,  4., 16., 64.], dtype=float32))"
      ]
     },
     "execution_count": 28,
     "metadata": {},
     "output_type": "execute_result"
    }
   ],
   "source": [
    "x = jnp.array([1., 2, 4, 8])\n",
    "y = jnp.array([2, 2, 2, 2])\n",
    "x + y, x - y, x * y, x / y, x ** y"
   ]
  },
  {
   "cell_type": "code",
   "execution_count": 35,
   "id": "fccc7a99-3fce-4755-b15f-dbbe51e7a586",
   "metadata": {},
   "outputs": [
    {
     "data": {
      "text/plain": [
       "Array([[ 0,  1,  2,  3],\n",
       "       [ 4,  5,  6,  7],\n",
       "       [ 8,  9, 10, 11],\n",
       "       [ 1,  1,  1,  1],\n",
       "       [ 1,  1,  1,  1],\n",
       "       [ 1,  1,  1,  1]], dtype=int32)"
      ]
     },
     "execution_count": 35,
     "metadata": {},
     "output_type": "execute_result"
    }
   ],
   "source": [
    "x = jnp.arange(12).reshape(3,-1)\n",
    "y = jnp.ones((3,4),dtype=\"int32\")\n",
    "jnp.concatenate((x,y),axis=0)"
   ]
  },
  {
   "cell_type": "code",
   "execution_count": 45,
   "id": "baa6fbc6-dbf3-4c66-a827-c03e48b47da4",
   "metadata": {},
   "outputs": [
    {
     "data": {
      "text/plain": [
       "Array([[False, False,  True,  True],\n",
       "       [ True,  True,  True,  True],\n",
       "       [ True,  True,  True,  True]], dtype=bool)"
      ]
     },
     "execution_count": 45,
     "metadata": {},
     "output_type": "execute_result"
    }
   ],
   "source": [
    "x > y"
   ]
  },
  {
   "cell_type": "code",
   "execution_count": 37,
   "id": "7f5eba05-bea4-43b9-b9b5-9fb98fcc8cf9",
   "metadata": {},
   "outputs": [
    {
     "data": {
      "text/plain": [
       "Array(66, dtype=int32)"
      ]
     },
     "execution_count": 37,
     "metadata": {},
     "output_type": "execute_result"
    }
   ],
   "source": [
    "x.sum()"
   ]
  },
  {
   "cell_type": "code",
   "execution_count": 42,
   "id": "932eaf37-d1c2-45f0-8f92-de132d84bc81",
   "metadata": {},
   "outputs": [
    {
     "data": {
      "text/plain": [
       "jaxlib.xla_extension.ArrayImpl"
      ]
     },
     "execution_count": 42,
     "metadata": {},
     "output_type": "execute_result"
    }
   ],
   "source": [
    "type(jax.device_put(jax.device_get(x)))"
   ]
  },
  {
   "cell_type": "code",
   "execution_count": null,
   "id": "4f3164c7-2f9f-4f54-af5f-39da7c2fd50b",
   "metadata": {},
   "outputs": [],
   "source": []
  }
 ],
 "metadata": {
  "kernelspec": {
   "display_name": "Python 3 (ipykernel)",
   "language": "python",
   "name": "python3"
  },
  "language_info": {
   "codemirror_mode": {
    "name": "ipython",
    "version": 3
   },
   "file_extension": ".py",
   "mimetype": "text/x-python",
   "name": "python",
   "nbconvert_exporter": "python",
   "pygments_lexer": "ipython3",
   "version": "3.10.14"
  }
 },
 "nbformat": 4,
 "nbformat_minor": 5
}
